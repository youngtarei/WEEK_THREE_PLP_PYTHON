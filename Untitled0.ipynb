{
  "nbformat": 4,
  "nbformat_minor": 0,
  "metadata": {
    "colab": {
      "provenance": [],
      "authorship_tag": "ABX9TyMTvksjooReASjuyzXVf1MC",
      "include_colab_link": true
    },
    "kernelspec": {
      "name": "python3",
      "display_name": "Python 3"
    },
    "language_info": {
      "name": "python"
    }
  },
  "cells": [
    {
      "cell_type": "markdown",
      "metadata": {
        "id": "view-in-github",
        "colab_type": "text"
      },
      "source": [
        "<a href=\"https://colab.research.google.com/github/youngtarei/WEEK_THREE_PLP_PYTHON/blob/main/Untitled0.ipynb\" target=\"_parent\"><img src=\"https://colab.research.google.com/assets/colab-badge.svg\" alt=\"Open In Colab\"/></a>"
      ]
    },
    {
      "cell_type": "code",
      "execution_count": 1,
      "metadata": {
        "colab": {
          "base_uri": "https://localhost:8080/"
        },
        "id": "qBN3mX-tqm7S",
        "outputId": "e522d576-6b84-4055-f399-9c8d6d7546f0"
      },
      "outputs": [
        {
          "output_type": "stream",
          "name": "stdout",
          "text": [
            "Enter the original price of the item: 5\n",
            "Enter the discount percentage: 2\n",
            "The final price after applying the discount is: 5.00\n"
          ]
        }
      ],
      "source": [
        "def calculate_discount(price, discount_percent):\n",
        "\n",
        "    if discount_percent >= 20:\n",
        "        return price - (price * discount_percent / 100)\n",
        "    else:\n",
        "        return price\n",
        "\n",
        "# Prompt user for input\n",
        "try:\n",
        "    price = float(input(\"Enter the original price of the item: \"))\n",
        "    discount_percent = float(input(\"Enter the discount percentage: \"))\n",
        "\n",
        "# Calculate and display the final price\n",
        "    final_price = calculate_discount(price, discount_percent)\n",
        "    print(f\"The final price after applying the discount is: {final_price:.2f}\")\n",
        "except ValueError:\n",
        "    print(\"Invalid input. Please enter numeric values.\")"
      ]
    }
  ]
}